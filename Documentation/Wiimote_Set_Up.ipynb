{
 "cells": [
  {
   "cell_type": "markdown",
   "metadata": {},
   "source": [
    "## Wiimote Initial Set-Up"
   ]
  },
  {
   "cell_type": "markdown",
   "metadata": {},
   "source": [
    "Install using the following commands: \n",
    "> sudo apt-get update\n",
    ">\n",
    "> sudo apt-get install python-cwiid"
   ]
  },
  {
   "cell_type": "markdown",
   "metadata": {},
   "source": [
    "This installs the cwiid module that we will use to access the wiimote in the Python script. \n",
    "\n",
    "Note: in order to use this, we need to run in Python version 2... which is pre-installed on the rpi.\n",
    "\n",
    "When running the script in the terminal, type the following:\n",
    "> python NAME_OF_FILE.py\n",
    "\n",
    "This will run in Python 2. "
   ]
  },
  {
   "cell_type": "markdown",
   "metadata": {},
   "source": [
    "## Troubleshooting"
   ]
  },
  {
   "cell_type": "markdown",
   "metadata": {},
   "source": [
    "1. If the wiimote does not connect, try connecting again. If it continues to not want to connect in the script, try using a different remote. I had success with some remotes, but not others. "
   ]
  },
  {
   "cell_type": "markdown",
   "metadata": {},
   "source": [
    "## Running a Script"
   ]
  },
  {
   "cell_type": "markdown",
   "metadata": {},
   "source": [
    "Once that cwiid module is installed, we can start running scripts. \n",
    "I uploaded a script titled \"wiimote_connection_rev1a.py\" which will allow you to test that the wiimmote it connecting. Just for fun I put in 'A' to output dots and 'B' to output dashes. \n",
    "\n",
    "I think this will get us on the right track for writing the rest of the script to code specifically for Morse code!"
   ]
  }
 ],
 "metadata": {
  "kernelspec": {
   "display_name": "Python 3",
   "language": "python",
   "name": "python3"
  },
  "language_info": {
   "codemirror_mode": {
    "name": "ipython",
    "version": 3
   },
   "file_extension": ".py",
   "mimetype": "text/x-python",
   "name": "python",
   "nbconvert_exporter": "python",
   "pygments_lexer": "ipython3",
   "version": "3.7.4"
  }
 },
 "nbformat": 4,
 "nbformat_minor": 4
}
